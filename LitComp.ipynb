{
 "cells": [
  {
   "cell_type": "code",
   "execution_count": 10,
   "metadata": {},
   "outputs": [
    {
     "name": "stdout",
     "output_type": "stream",
     "text": [
      "STDIN> alice_in_wonderland.txt\n",
      "STDIN> man_from_mars.txt\n",
      "29465 words\n",
      "1083 sentences\n",
      "4.407330731376209 avg word length\n",
      "said 425\n",
      "alice 278\n",
      "little 122\n",
      "project 86\n",
      "one 85\n",
      "would 81\n",
      "went 81\n",
      "alice, 76\n",
      "like 75\n",
      "could 71\n",
      "59441 words\n",
      "1886 sentences\n",
      "4.9033831866893225 avg word length\n",
      "upon 223\n",
      "one 201\n",
      "among 147\n",
      "life 119\n",
      "labor 109\n",
      "us 107\n",
      "many 99\n",
      "may 95\n",
      "without 89\n",
      "project 87\n"
     ]
    }
   ],
   "source": [
    "#get file paths from user\n",
    "p1 =readline(STDIN)\n",
    "p2= readline(STDIN)\n",
    "\n",
    "function getMetrics(path)\n",
    "    #open file and read contents into array of words\n",
    "    f=open(path)\n",
    "    stuff = readstring(f)\n",
    "    words = split(stuff)\n",
    "\n",
    "    #counters for words, sentences\n",
    "    numWords=0\n",
    "    numSentences=0\n",
    "    wordLens=0 #keep track of characters\n",
    "    wordcounts=Dict() #keep track of counts of each words\n",
    "\n",
    "    stopwords = (\"ourselves\", \"hers\", \"between\", \"yourself\", \"but\", \"again\", \"there\", \"about\", \"once\", \"during\", \"out\", \"very\", \"having\", \"with\", \"they\", \"own\", \"an\", \"be\", \"some\", \"for\", \"do\", \"its\", \"yours\", \"such\", \"into\", \"of\", \"most\", \"itself\", \"other\", \"off\", \"is\", \"s\", \"am\", \"or\", \"who\", \"as\", \"from\", \"him\", \"each\", \"the\", \"themselves\", \"until\", \"below\", \"are\", \"we\", \"these\", \"your\", \"his\", \"through\", \"don\", \"nor\", \"me\", \"were\", \"her\", \"more\", \"himself\", \"this\", \"down\", \"should\", \"our\", \"their\", \"while\", \"above\", \"both\", \"up\", \"to\", \"ours\", \"had\", \"she\", \"all\", \"no\", \"when\", \"at\", \"any\", \"before\", \"them\", \"same\", \"and\", \"been\", \"have\", \"in\", \"will\", \"on\", \"does\", \"yourselves\", \"then\", \"that\", \"because\", \"what\", \"over\", \"why\", \"so\", \"can\", \"did\", \"not\", \"now\", \"under\", \"he\", \"you\", \"herself\", \"has\", \"just\", \"where\", \"too\", \"only\", \"myself\", \"which\", \"those\", \"i\", \"after\", \"few\", \"whom\", \"t\", \"being\", \"if\", \"theirs\", \"my\", \"against\", \"a\", \"by\", \"doing\", \"it\", \"how\", \"further\", \"was\", \"here\", \"than\")\n",
    "\n",
    "    #loop through each word in the book\n",
    "    for word in words\n",
    "        numWords=numWords+1\n",
    "        #if word ends in .!? its the end of a sentence\n",
    "        if(word[endof(word)]=='!' || word[endof(word)]=='.' || word[endof(word)]=='?')\n",
    "            numSentences=numSentences+1\n",
    "        end\n",
    "        #strip punctuation off of word and add it to dictionary\n",
    "        sword=lowercase(strip(word, ['.','!','?','‘','\\\"','“']))\n",
    "        wordLens+=length(sword)\n",
    "        if(sword in stopwords)\n",
    "            continue\n",
    "        end\n",
    "        if(haskey(wordcounts, sword))\n",
    "            wordcounts[sword]=wordcounts[sword]+1\n",
    "        else\n",
    "            wordcounts[sword]=1\n",
    "        end\n",
    "    end\n",
    "\n",
    "    #sort the counts by the values (high to low)\n",
    "    orderedcounts=sort(collect(wordcounts), by = tuple -> last(tuple), rev=true)\n",
    "    #print results\n",
    "    println(path)\n",
    "    println(numWords, \" words\")\n",
    "    println(numSentences, \" sentences\")\n",
    "    println(wordLens/numWords, \" avg word length\")\n",
    "    top=[]\n",
    "    for i in 1:10\n",
    "       println(orderedcounts[i][1], \" \", orderedcounts[i][2])\n",
    "        push(top,orderedcounts[i][1])\n",
    "    end\n",
    "\n",
    "    close(f)\n",
    "    return (numWords, numSentences, numWords/numSentences, wordLens/numWords, top)\n",
    "\n",
    "end\n",
    "\n",
    "getMetrics(p1)\n",
    "getMetrics(p2)"
   ]
  },
  {
   "cell_type": "code",
   "execution_count": null,
   "metadata": {
    "collapsed": true
   },
   "outputs": [],
   "source": []
  }
 ],
 "metadata": {
  "kernelspec": {
   "display_name": "Julia 0.6.2",
   "language": "julia",
   "name": "julia-0.6"
  },
  "language_info": {
   "file_extension": ".jl",
   "mimetype": "application/julia",
   "name": "julia",
   "version": "0.6.2"
  }
 },
 "nbformat": 4,
 "nbformat_minor": 2
}
