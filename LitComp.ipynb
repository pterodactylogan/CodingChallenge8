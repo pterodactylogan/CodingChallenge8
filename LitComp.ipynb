{
 "cells": [
  {
   "cell_type": "code",
   "execution_count": 29,
   "metadata": {
    "scrolled": true
   },
   "outputs": [
    {
     "name": "stdout",
     "output_type": "stream",
     "text": [
      "STDIN> alice_in_wonderland.txt\n",
      "STDIN> pride_and_prejudice.txt\n"
     ]
    },
    {
     "data": {
      "text/plain": [
       "(\"pride_and_prejudice.txt\", 121567, 5774, 21.05420852095601, 4.478698989034854, Dict{Any,Any}(Pair{Any,Any}(\"mrs\", 343),Pair{Any,Any}(\"miss\", 283),Pair{Any,Any}(\"much\", 315),Pair{Any,Any}(\"elizabeth\", 565),Pair{Any,Any}(\"could\", 521),Pair{Any,Any}(\"darcy\", 340),Pair{Any,Any}(\"must\", 304),Pair{Any,Any}(\"said\", 377),Pair{Any,Any}(\"would\", 465),Pair{Any,Any}(\"mr\", 781)…))"
      ]
     },
     "execution_count": 29,
     "metadata": {},
     "output_type": "execute_result"
    }
   ],
   "source": [
    "#get file paths from user\n",
    "p1 =readline(STDIN)\n",
    "p2= readline(STDIN)\n",
    "\n",
    "function getMetrics(path)\n",
    "    #open file and read contents into array of words\n",
    "    f=open(path)\n",
    "    stuff = readstring(f)\n",
    "    words = split(stuff)\n",
    "\n",
    "    #counters for words, sentences\n",
    "    numWords=0\n",
    "    numSentences=0\n",
    "    wordLens=0 #keep track of characters\n",
    "    wordcounts=Dict() #keep track of counts of each words\n",
    "\n",
    "    stopwords = (\"ourselves\", \"hers\", \"between\", \"yourself\", \"but\", \"again\", \"there\", \"about\", \"once\", \"during\", \"out\", \"very\", \"having\", \"with\", \"they\", \"own\", \"an\", \"be\", \"some\", \"for\", \"do\", \"its\", \"yours\", \"such\", \"into\", \"of\", \"most\", \"itself\", \"other\", \"off\", \"is\", \"s\", \"am\", \"or\", \"who\", \"as\", \"from\", \"him\", \"each\", \"the\", \"themselves\", \"until\", \"below\", \"are\", \"we\", \"these\", \"your\", \"his\", \"through\", \"don\", \"nor\", \"me\", \"were\", \"her\", \"more\", \"himself\", \"this\", \"down\", \"should\", \"our\", \"their\", \"while\", \"above\", \"both\", \"up\", \"to\", \"ours\", \"had\", \"she\", \"all\", \"no\", \"when\", \"at\", \"any\", \"before\", \"them\", \"same\", \"and\", \"been\", \"have\", \"in\", \"will\", \"on\", \"does\", \"yourselves\", \"then\", \"that\", \"because\", \"what\", \"over\", \"why\", \"so\", \"can\", \"did\", \"not\", \"now\", \"under\", \"he\", \"you\", \"herself\", \"has\", \"just\", \"where\", \"too\", \"only\", \"myself\", \"which\", \"those\", \"i\", \"after\", \"few\", \"whom\", \"t\", \"being\", \"if\", \"theirs\", \"my\", \"against\", \"a\", \"by\", \"doing\", \"it\", \"how\", \"further\", \"was\", \"here\", \"than\")\n",
    "\n",
    "    #loop through each word in the book\n",
    "    for word in words\n",
    "        numWords=numWords+1\n",
    "        #if word ends in .!? its the end of a sentence\n",
    "        if(word[endof(word)]=='!' || word[endof(word)]=='.' || word[endof(word)]=='?')\n",
    "            numSentences=numSentences+1\n",
    "        end\n",
    "        #strip punctuation off of word and add it to dictionary\n",
    "        sword=lowercase(strip(word, ['.','!','?','‘','\\\"','“',',']))\n",
    "        wordLens+=length(sword)\n",
    "        if(sword in stopwords)\n",
    "            continue\n",
    "        end\n",
    "        if(haskey(wordcounts, sword))\n",
    "            wordcounts[sword]=wordcounts[sword]+1\n",
    "        else\n",
    "            wordcounts[sword]=1\n",
    "        end\n",
    "    end\n",
    "\n",
    "    #sort the counts by the values (high to low)\n",
    "    orderedcounts=sort(collect(wordcounts), by = tuple -> last(tuple), rev=true)\n",
    "    top=Dict()\n",
    "    for i in 1:10\n",
    "        top[orderedcounts[i][1]]=orderedcounts[i][2]\n",
    "    end\n",
    "\n",
    "    close(f)\n",
    "    \n",
    "    #filename, words, sentences, sentence length, word length, top 10 words\n",
    "    return (path, numWords, numSentences, numWords/numSentences, wordLens/numWords, top)\n",
    "\n",
    "end\n",
    "\n",
    "metrics1=getMetrics(p1)\n",
    "metrics2=getMetrics(p2)\n"
   ]
  },
  {
   "cell_type": "code",
   "execution_count": 30,
   "metadata": {},
   "outputs": [
    {
     "data": {
      "text/plain": [
       "5.0622284918877725"
      ]
     },
     "execution_count": 30,
     "metadata": {},
     "output_type": "execute_result"
    }
   ],
   "source": [
    "function similarity(metrics1, metrics2)\n",
    "    #NUMWORDS--out of 2 possible points\n",
    "    n1=metrics1[2]\n",
    "    n2=metrics2[2]\n",
    "    if(n1>n2)\n",
    "        ratio=n1/n2\n",
    "    else\n",
    "        ratio=n2/n1\n",
    "    end\n",
    "    if(ratio>4)\n",
    "        wordScore=0\n",
    "    else\n",
    "        wordScore=2/ratio\n",
    "    end\n",
    "\n",
    "    #SENTENCE LENGTH--out of 3 possible points\n",
    "    n1=metrics1[4]\n",
    "    n2=metrics2[4]\n",
    "    if(n1>n2)\n",
    "        ratio=n1/n2\n",
    "    else\n",
    "        ratio=n2/n1\n",
    "    end\n",
    "    if(ratio>2)\n",
    "        sentenceScore=0\n",
    "    else\n",
    "        sentenceScore=(3/ratio)-0.33\n",
    "    end\n",
    "\n",
    "    #WORD LENGTH--out of 4 possible points\n",
    "    n1=metrics1[5]\n",
    "    n2=metrics2[5]\n",
    "    dif=abs(n1-n2)\n",
    "    if(dif>2)\n",
    "        lenScore=0\n",
    "    elseif(dif<.1)\n",
    "        lenScore=4\n",
    "    else\n",
    "        lenScore=4/(10*dif)\n",
    "    end\n",
    "\n",
    "    #TOP WORDS--out of 1 possible point\n",
    "    w1=keys(metrics1[6])\n",
    "    w2=keys(metrics2[6])\n",
    "    overlapScore=0\n",
    "    for word in w1\n",
    "        if(word in w2)\n",
    "            overlapScore=overlapScore+1\n",
    "        end\n",
    "    end\n",
    "    overlapScore=overlapScore/10\n",
    "\n",
    "    total=overlapScore+lenScore+sentenceScore+wordScore\n",
    "    return total\n",
    "end\n",
    "\n",
    "score = similarity(metrics1, metrics2)"
   ]
  },
  {
   "cell_type": "code",
   "execution_count": 31,
   "metadata": {},
   "outputs": [
    {
     "data": {
      "text/plain": [
       "printResults (generic function with 1 method)"
      ]
     },
     "execution_count": 31,
     "metadata": {},
     "output_type": "execute_result"
    }
   ],
   "source": [
    "function printResults(metrics)\n",
    "    filename = metrics[1]\n",
    "    numWords = metrics[2]\n",
    "    numSentences = metrics[3]\n",
    "    lenSentences = metrics[4]\n",
    "    topTen = sort(collect(metrics[6]), by = tuple -> last(tuple), rev=true)\n",
    "    \n",
    "    println(\"--------------------------------------------------------\")\n",
    "    println(\"            FILENAME: $filename\")\n",
    "    println(\"         TOTAL WORDS: $numWords\")\n",
    "    println(\"     TOTAL SENTENCES: $numSentences\")\n",
    "    println(\"AVG. SENTENCE LENGTH: $lenSentences\")\n",
    "    println(\"        TOP 10 WORDS: $(topTen[1][1]) $(topTen[1][2])\")\n",
    "    println(\"                      $(topTen[2][1]) $(topTen[2][2])\")\n",
    "    println(\"                      $(topTen[3][1]) $(topTen[3][2])\")\n",
    "    println(\"                      $(topTen[4][1]) $(topTen[4][2])\")\n",
    "    println(\"                      $(topTen[5][1]) $(topTen[5][2])\")\n",
    "    println(\"                      $(topTen[6][1]) $(topTen[6][2])\")\n",
    "    println(\"                      $(topTen[7][1]) $(topTen[7][2])\")\n",
    "    println(\"                      $(topTen[8][1]) $(topTen[8][2])\")\n",
    "    println(\"                      $(topTen[9][1]) $(topTen[9][2])\")\n",
    "    println(\"                      $(topTen[10][1]) $(topTen[10][2])\")\n",
    "    \n",
    "end"
   ]
  },
  {
   "cell_type": "code",
   "execution_count": 32,
   "metadata": {},
   "outputs": [
    {
     "name": "stdout",
     "output_type": "stream",
     "text": [
      "--------------------------------------------------------\n",
      "            FILENAME: alice_in_wonderland.txt\n",
      "         TOTAL WORDS: 29465\n",
      "     TOTAL SENTENCES: 1083\n",
      "AVG. SENTENCE LENGTH: 27.206832871652818\n",
      "        TOP 10 WORDS: said 451\n",
      "                      alice 354\n",
      "                      little 125\n",
      "                      one 94\n",
      "                      project 86\n",
      "                      went 83\n",
      "                      would 82\n",
      "                      could 78\n",
      "                      like 77\n",
      "                      thought 71\n",
      "--------------------------------------------------------\n",
      "            FILENAME: pride_and_prejudice.txt\n",
      "         TOTAL WORDS: 121567\n",
      "     TOTAL SENTENCES: 5774\n",
      "AVG. SENTENCE LENGTH: 21.05420852095601\n",
      "        TOP 10 WORDS: mr 781\n",
      "                      elizabeth 565\n",
      "                      could 521\n",
      "                      would 465\n",
      "                      said 377\n",
      "                      mrs 343\n",
      "                      darcy 340\n",
      "                      much 315\n",
      "                      must 304\n",
      "                      miss 283\n",
      "--------------------------------------------------------\n",
      "          SIMILARITY: 5.0622284918877725\n"
     ]
    }
   ],
   "source": [
    "printResults(metrics1)\n",
    "printResults(metrics2)\n",
    "println(\"--------------------------------------------------------\")\n",
    "println(\"          SIMILARITY: $score\")"
   ]
  }
 ],
 "metadata": {
  "kernelspec": {
   "display_name": "Julia 0.6.2",
   "language": "julia",
   "name": "julia-0.6"
  },
  "language_info": {
   "file_extension": ".jl",
   "mimetype": "application/julia",
   "name": "julia",
   "version": "0.6.2"
  }
 },
 "nbformat": 4,
 "nbformat_minor": 2
}
